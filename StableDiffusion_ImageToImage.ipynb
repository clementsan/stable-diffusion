{
 "cells": [
  {
   "cell_type": "code",
   "execution_count": null,
   "id": "dc4681a6-ec33-479e-acbd-22808a933c73",
   "metadata": {
    "tags": []
   },
   "outputs": [],
   "source": [
    "# Put these at the top of every notebook, to get automatic reloading and inline plotting\n",
    "%reload_ext autoreload\n",
    "%autoreload 2\n",
    "%matplotlib inline"
   ]
  },
  {
   "cell_type": "code",
   "execution_count": null,
   "id": "b5272d50-5699-4cbe-92ce-1231e2c1d0ae",
   "metadata": {
    "tags": []
   },
   "outputs": [],
   "source": [
    "# setup CUDA_VISIBLE DEVICES for titan.sci.utah.edu\n",
    "import os\n",
    "os.environ[\"CUDA_VISIBLE_DEVICES\"] = \"0\"\n"
   ]
  },
  {
   "cell_type": "code",
   "execution_count": null,
   "id": "4234b20c-d5f2-4db0-a526-c8c66e433c1e",
   "metadata": {
    "tags": []
   },
   "outputs": [],
   "source": [
    "#Import libraries\n",
    "import torch\n",
    "import numpy as np\n",
    "import matplotlib as plt\n",
    "\n",
    "import torch\n",
    "import requests\n",
    "from PIL import Image\n",
    "from io import BytesIO\n",
    "\n",
    "from diffusers import StableDiffusionImg2ImgPipeline\n"
   ]
  },
  {
   "cell_type": "markdown",
   "id": "cde646cb-7c55-48a0-8d14-c0bd48b7651c",
   "metadata": {},
   "source": [
    "## Image to Image pipeline"
   ]
  },
  {
   "cell_type": "code",
   "execution_count": null,
   "id": "e6f66e1f-ea37-4e11-8dbf-655f1b5adc3d",
   "metadata": {},
   "outputs": [],
   "source": [
    "# load the pipeline\n",
    "device = \"cuda\"\n",
    "pipe = StableDiffusionImg2ImgPipeline.from_pretrained(\"runwayml/stable-diffusion-v1-5\", torch_dtype=torch.float16).to(device)"
   ]
  },
  {
   "cell_type": "code",
   "execution_count": null,
   "id": "3977f377-3773-4d62-b352-a55fe4ccc407",
   "metadata": {
    "tags": []
   },
   "outputs": [],
   "source": [
    "# let's download an initial image\n",
    "url = \"https://raw.githubusercontent.com/CompVis/stable-diffusion/main/assets/stable-samples/img2img/sketch-mountains-input.jpg\"\n",
    "\n",
    "response = requests.get(url)\n",
    "init_image = Image.open(BytesIO(response.content)).convert(\"RGB\")\n",
    "init_image.thumbnail((768, 768))\n",
    "init_image"
   ]
  },
  {
   "cell_type": "code",
   "execution_count": null,
   "id": "4e8b9480-23c0-48c0-b347-0e42eef2d580",
   "metadata": {
    "tags": []
   },
   "outputs": [],
   "source": [
    "prompt = \"A fantasy landscape, trending on artstation\"\n",
    "\n",
    "images = pipe(prompt=prompt, image=init_image, strength=0.75, guidance_scale=7.5).images\n",
    "\n",
    "images[0].save(\"fantasy_landscape.png\")"
   ]
  },
  {
   "cell_type": "code",
   "execution_count": null,
   "id": "b72bb26e-39b4-4394-ac0f-1744221caf4d",
   "metadata": {
    "tags": []
   },
   "outputs": [],
   "source": [
    "def image_grid(imgs, rows=2, cols=4):                                                                                                                                                                                                         \n",
    "    w, h = imgs[0].size                                                                                                                                                                                                                       \n",
    "    grid = Image.new('RGB', size=(cols*w, rows*h))                                                                                                                                                                                            \n",
    "                                                                                                                                                                                                                                              \n",
    "    for i, img in enumerate(imgs):                                                                                                                                                                                                            \n",
    "        grid.paste(img, box=(i%cols*w, i//cols*h))                                                                                                                                                                                            \n",
    "    return grid"
   ]
  },
  {
   "cell_type": "code",
   "execution_count": null,
   "id": "62a22c95-5c5a-4005-ae4b-3d170bee208c",
   "metadata": {
    "tags": []
   },
   "outputs": [],
   "source": [
    "image_grid(images)"
   ]
  },
  {
   "cell_type": "markdown",
   "id": "cf3cd382-2f7d-43d3-a1cc-609ccdf85f13",
   "metadata": {},
   "source": [
    "## Depth to image pipeline\n"
   ]
  },
  {
   "cell_type": "code",
   "execution_count": null,
   "id": "b88425ad-b1ab-4e9f-bca1-a115423aeca6",
   "metadata": {
    "tags": []
   },
   "outputs": [],
   "source": [
    "from diffusers import StableDiffusionDepth2ImgPipeline\n"
   ]
  },
  {
   "cell_type": "code",
   "execution_count": null,
   "id": "42bb95de-4405-482c-b311-31e5ac5ca13e",
   "metadata": {
    "tags": []
   },
   "outputs": [],
   "source": [
    "pipe = StableDiffusionDepth2ImgPipeline.from_pretrained(\n",
    "    \"stabilityai/stable-diffusion-2-depth\",\n",
    "    torch_dtype=torch.float16,\n",
    ").to(\"cuda\")\n",
    "\n",
    "\n",
    "url = \"http://images.cocodataset.org/val2017/000000039769.jpg\"\n",
    "init_image = Image.open(requests.get(url, stream=True).raw)\n",
    "prompt = \"two tigers\"\n",
    "n_prompt = \"bad, deformed, ugly, bad anatomy\"\n",
    "image = pipe(prompt=prompt, image=init_image, negative_prompt=n_prompt, strength=0.7).images[0]"
   ]
  },
  {
   "cell_type": "code",
   "execution_count": null,
   "id": "5245af40-7190-4cec-96db-7204e54067c7",
   "metadata": {
    "tags": []
   },
   "outputs": [],
   "source": [
    "init_image"
   ]
  },
  {
   "cell_type": "code",
   "execution_count": null,
   "id": "917eab59-10c8-467a-8439-e462a6cce17a",
   "metadata": {
    "tags": []
   },
   "outputs": [],
   "source": [
    "image"
   ]
  },
  {
   "cell_type": "code",
   "execution_count": null,
   "id": "bb855f96-9b2f-4c70-b815-2bf82ae6b29a",
   "metadata": {},
   "outputs": [],
   "source": []
  }
 ],
 "metadata": {
  "kernelspec": {
   "display_name": "Python 3 (ipykernel)",
   "language": "python",
   "name": "python3"
  },
  "language_info": {
   "codemirror_mode": {
    "name": "ipython",
    "version": 3
   },
   "file_extension": ".py",
   "mimetype": "text/x-python",
   "name": "python",
   "nbconvert_exporter": "python",
   "pygments_lexer": "ipython3",
   "version": "3.10.12"
  }
 },
 "nbformat": 4,
 "nbformat_minor": 5
}
