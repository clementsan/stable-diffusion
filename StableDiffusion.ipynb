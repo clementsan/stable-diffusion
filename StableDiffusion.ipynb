{
 "cells": [
  {
   "cell_type": "code",
   "execution_count": null,
   "id": "dc4681a6-ec33-479e-acbd-22808a933c73",
   "metadata": {
    "tags": []
   },
   "outputs": [],
   "source": [
    "# Put these at the top of every notebook, to get automatic reloading and inline plotting\n",
    "%reload_ext autoreload\n",
    "%autoreload 2\n",
    "%matplotlib inline"
   ]
  },
  {
   "cell_type": "code",
   "execution_count": null,
   "id": "b5272d50-5699-4cbe-92ce-1231e2c1d0ae",
   "metadata": {
    "tags": []
   },
   "outputs": [],
   "source": [
    "# setup CUDA_VISIBLE DEVICES for titan.sci.utah.edu\n",
    "import os\n",
    "os.environ[\"CUDA_VISIBLE_DEVICES\"] = \"1\"\n"
   ]
  },
  {
   "cell_type": "code",
   "execution_count": null,
   "id": "4234b20c-d5f2-4db0-a526-c8c66e433c1e",
   "metadata": {
    "tags": []
   },
   "outputs": [],
   "source": [
    "#Import libraries\n",
    "import torch\n",
    "import numpy as np\n",
    "import matplotlib as plt\n",
    "\n",
    "from PIL import Image\n",
    "\n",
    "from diffusers import StableDiffusionPipeline                                                                                                                                                                                                 \n",
    "from diffusers import DPMSolverMultistepScheduler\n",
    "from diffusers import AutoencoderKL"
   ]
  },
  {
   "cell_type": "code",
   "execution_count": null,
   "id": "771267c1-dc2c-42a3-b522-57583f21c3f1",
   "metadata": {
    "tags": []
   },
   "outputs": [],
   "source": [
    "#model_id = \"runwayml/stable-diffusion-v1-5\"  \n",
    "model_id = \"prompthero/openjourney\"\n",
    "#model_id = \"stabilityai/stable-diffusion-2-1\"\n",
    "#vae = AutoencoderKL.from_pretrained(\"stabilityai/sd-vae-ft-mse\", torch_dtype=torch.float16).to(\"cuda\")"
   ]
  },
  {
   "cell_type": "code",
   "execution_count": null,
   "id": "a95b2f66-accf-40a2-bdd8-1dcd4b5744fb",
   "metadata": {
    "tags": []
   },
   "outputs": [],
   "source": [
    "#pipe = StableDiffusionPipeline.from_pretrained(model_id, torch_dtype=torch.float16)\n",
    "#prompt = \"black and white portrait photo of an old warrior chief\"\n",
    "#prompt += \" 50mm portrait photography, hard rim lighting photography--beta --ar 2:3  --beta --upbeta\"\n",
    "\n",
    "# prompt = \"futuristic hospital room mixing  AI and medicine, showing humanoid robot, MRI scan, glass display, computers and high-tech equipment, deep blue on dark background, \\\n",
    "# ultra realistic, concept art, intricate details, highly detailed, octane render, \\\n",
    "# 8k, unreal engine, sharp focus, volumetric lighting unreal engine, \\\n",
    "# trending on art station\"\n",
    "\n",
    "prompt = \"3d rendering showing a distant human brain, with glowing neuron connections \\\n",
    "forming a complex network of thoughts and memories. \\\n",
    "deep blue --ar 9:16 \\\n",
    "ultra realistic, concept art, intricate details, highly detailed, octane render, \\\n",
    "8k, unreal engine, sharp focus, volumetric lighting unreal engine, \\\n",
    "mdjrny-v4 style\"\n"
   ]
  },
  {
   "cell_type": "code",
   "execution_count": null,
   "id": "97488827-ceca-4429-a233-5b072222b21f",
   "metadata": {
    "tags": []
   },
   "outputs": [],
   "source": [
    "pipe = StableDiffusionPipeline.from_pretrained(model_id, torch_dtype=torch.float16)\n",
    "pipe = pipe.to(\"cuda\")\n",
    "# Change autoencoder\n",
    "#pipe.vae = vae\n",
    "# Run cross-attention sequentially - reducing memory requirements\n",
    "pipe.enable_attention_slicing()\n",
    "\n",
    "# Updating scheduler \n",
    "#pipe.scheduler = DPMSolverMultistepScheduler.from_config(pipe.scheduler.config)"
   ]
  },
  {
   "cell_type": "code",
   "execution_count": null,
   "id": "49c96374-0755-482d-bf27-8af72a44f360",
   "metadata": {
    "tags": []
   },
   "outputs": [],
   "source": [
    "def get_inputs(batch_size=1):                                                                                                                                                                                                                 \n",
    "  generator = [torch.Generator(\"cuda\").manual_seed(i) for i in range(batch_size)]                                                                                                                                                             \n",
    "  prompts = batch_size * [prompt]                                                                                                                                                                                                             \n",
    "  num_inference_steps = 50                                                                                                                                                                                                                    \n",
    "\n",
    "  return {\"prompt\": prompts, \"generator\": generator, \"num_inference_steps\": num_inference_steps}                                                                                                                                              "
   ]
  },
  {
   "cell_type": "code",
   "execution_count": null,
   "id": "fba77d3b-66a4-442a-8fd9-c4cae28ddf35",
   "metadata": {
    "tags": []
   },
   "outputs": [],
   "source": [
    "def image_grid(imgs, rows=2, cols=4):                                                                                                                                                                                                         \n",
    "    w, h = imgs[0].size\n",
    "    print('w-h',[w,h])\n",
    "    grid = Image.new('RGB', size=(cols*w, rows*h))                                                                                                                                                                                            \n",
    "                                                                                                                                                                                                                                              \n",
    "    for i, img in enumerate(imgs):                                                                                                                                                                                                            \n",
    "        grid.paste(img, box=(i%cols*w, i//cols*h))                                                                                                                                                                                            \n",
    "    return grid"
   ]
  },
  {
   "cell_type": "code",
   "execution_count": null,
   "id": "87b95a2e-fc40-4283-952d-c3b4aadf7dd6",
   "metadata": {
    "tags": []
   },
   "outputs": [],
   "source": [
    "images = pipe(**get_inputs(batch_size=8)).images                                                                                                                                                                                              \n",
    "image_grid(images)"
   ]
  },
  {
   "cell_type": "code",
   "execution_count": null,
   "id": "e6f66e1f-ea37-4e11-8dbf-655f1b5adc3d",
   "metadata": {},
   "outputs": [],
   "source": [
    "images[0].size"
   ]
  },
  {
   "cell_type": "code",
   "execution_count": null,
   "id": "1e40d64f-12dd-4025-872f-f8c31f5f76b3",
   "metadata": {
    "tags": []
   },
   "outputs": [],
   "source": [
    "display(images[4])"
   ]
  },
  {
   "cell_type": "code",
   "execution_count": null,
   "id": "0febba05-8e6a-4ceb-93d2-bcfa50585294",
   "metadata": {
    "tags": []
   },
   "outputs": [],
   "source": [
    "images[4].save('3DBrain_Visualization4.png')"
   ]
  },
  {
   "cell_type": "code",
   "execution_count": null,
   "id": "1cf5f8a8-49ff-4447-ab61-d969abbea5d9",
   "metadata": {},
   "outputs": [],
   "source": []
  }
 ],
 "metadata": {
  "kernelspec": {
   "display_name": "Python 3 (ipykernel)",
   "language": "python",
   "name": "python3"
  },
  "language_info": {
   "codemirror_mode": {
    "name": "ipython",
    "version": 3
   },
   "file_extension": ".py",
   "mimetype": "text/x-python",
   "name": "python",
   "nbconvert_exporter": "python",
   "pygments_lexer": "ipython3",
   "version": "3.10.12"
  }
 },
 "nbformat": 4,
 "nbformat_minor": 5
}
